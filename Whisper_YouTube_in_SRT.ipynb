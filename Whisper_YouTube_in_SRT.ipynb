{
  "nbformat": 4,
  "nbformat_minor": 0,
  "metadata": {
    "colab": {
      "provenance": [],
      "collapsed_sections": [],
      "private_outputs": true,
      "include_colab_link": true
    },
    "kernelspec": {
      "name": "python3",
      "display_name": "Python 3"
    },
    "accelerator": "GPU"
  },
  "cells": [
    {
      "cell_type": "markdown",
      "metadata": {
        "id": "view-in-github",
        "colab_type": "text"
      },
      "source": [
        "<a href=\"https://colab.research.google.com/github/gijigae/gradio/blob/master/Whisper_YouTube_in_SRT.ipynb\" target=\"_parent\"><img src=\"https://colab.research.google.com/assets/colab-badge.svg\" alt=\"Open In Colab\"/></a>"
      ]
    },
    {
      "metadata": {
        "id": "H4rxNhsEpr-c",
        "cellView": "form"
      },
      "cell_type": "code",
      "source": [
        "#@title INSTALL DEPENDENCIES\n",
        "!pip install --quiet ffmpeg-python git+https://github.com/openai/whisper.git > /dev/null --q\n",
        "!pip3 install gradio --q\n",
        "!pip install pytube\n",
        "!pip3 install vtt_to_srt3 --q"
      ],
      "execution_count": null,
      "outputs": []
    },
    {
      "cell_type": "code",
      "source": [
        "#@title Launch the APP\n",
        "\n",
        "import gradio as gr\n",
        "from pytube import YouTube\n",
        "import os\n",
        "import subprocess\n",
        "\n",
        "from vtt_to_srt.vtt_to_srt import vtt_to_srt\n",
        "\n",
        "\n",
        "def transcribe_youtube(youtube_link, source_language, model_size):\n",
        "    if(os.path.exists('audio.m4a')):\n",
        "      os.remove('audio.m4a')\n",
        "      os.remove('audio.m4a.vtt')\n",
        "      os.remove('audio.m4a.srt')\n",
        "\n",
        "    yt = YouTube(youtube_link)\n",
        "    yt.streams.filter(only_audio=True)[0].download(filename=\"audio.m4a\")\n",
        "\n",
        "    subprocess.run('whisper audio.m4a --language ' + str(source_language) + ' --model ' + str(model_size), shell=True)\n",
        "\n",
        "    path = '/content/audio.m4a.vtt'\n",
        "    vtt_to_srt(path)\n",
        "    with open('/content/audio.m4a.srt','r') as file:\n",
        "      data=file.read()\n",
        "    return data,'/content/audio.m4a.srt'\n",
        "\n",
        "demo = gr.Interface(\n",
        "    fn=transcribe_youtube,\n",
        "    inputs=[\n",
        "        gr.Textbox(lines=2, placeholder=\"paste youtube link here\"),\n",
        "        gr.Textbox(lines=2, placeholder=\"enter the source language (Japanese, English, Korean, etc)\"),\n",
        "        gr.Dropdown(label=\"Model Size\", choices=['base','small', 'medium', 'large'], value='small'),\n",
        "    ],\n",
        "    outputs=[gr.Textbox(label=\"Transcripts\"),gr.File(label=\"Download Transcripts\")],\n",
        "    allow_flagging=\"never\"\n",
        ")\n",
        "demo.launch(debug=True)"
      ],
      "metadata": {
        "id": "wAkVkxq6octM",
        "cellView": "form"
      },
      "execution_count": null,
      "outputs": []
    },
    {
      "cell_type": "code",
      "source": [],
      "metadata": {
        "id": "S6XR74jhFGcu"
      },
      "execution_count": null,
      "outputs": []
    }
  ]
}