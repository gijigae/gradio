{
  "cells": [
    {
      "cell_type": "markdown",
      "metadata": {
        "colab_type": "text",
        "id": "view-in-github"
      },
      "source": [
        "<a href=\"https://colab.research.google.com/github/gijigae/gradio/blob/master/Whisper_YouTube_in_SRT.ipynb\" target=\"_parent\"><img src=\"https://colab.research.google.com/assets/colab-badge.svg\" alt=\"Open In Colab\"/></a>"
      ]
    },
    {
      "cell_type": "code",
      "execution_count": null,
      "metadata": {
        "cellView": "form",
        "id": "H4rxNhsEpr-c",
        "vscode": {
          "languageId": "python"
        }
      },
      "outputs": [],
      "source": [
        "#@title INSTALL DEPENDENCIES\n",
        "!pip install --quiet ffmpeg-python git+https://github.com/openai/whisper.git > /dev/null --q\n",
        "!pip3 install gradio --q\n",
        "!pip install pytube\n",
        "!pip3 install vtt_to_srt3 --q"
      ]
    },
    {
      "cell_type": "code",
      "execution_count": null,
      "metadata": {
        "cellView": "form",
        "id": "wAkVkxq6octM",
        "vscode": {
          "languageId": "python"
        }
      },
      "outputs": [],
      "source": [
        "#@title Launch the APP\n",
        "\n",
        "import gradio as gr\n",
        "from pytube import YouTube\n",
        "import os\n",
        "import subprocess\n",
        "\n",
        "from vtt_to_srt.vtt_to_srt import vtt_to_srt\n",
        "\n",
        "def transcribe_youtube(source_language, model_size, youtube_link, source_file=None):\n",
        "    if(os.path.exists('audio.m4a')):\n",
        "      os.remove('audio.m4a')\n",
        "      os.remove('audio.m4a.vtt')\n",
        "      os.remove('audio.m4a.srt')\n",
        "    \n",
        "    audio = \"audio.m4a\"\n",
        "\n",
        "    if youtube_link != \"\":\n",
        "      yt = YouTube(youtube_link)\n",
        "      yt.streams.filter(only_audio=True)[0].download(filename=audio)\n",
        "      subprocess.run('whisper audio.m4a --language ' + str(source_language) + ' --model ' + str(model_size), shell=True)\n",
        "    \n",
        "    # A logic to process an uploaded audio file\n",
        "    elif source_file is not None:\n",
        "      subprocess.run('whisper ' + source_file + ' --language ' + str(source_language) + ' --model ' + str(model_size), shell=True)\n",
        "      audio = source_file.split(\"/\")[2]\n",
        "    else:\n",
        "        return \"You must either provide a YouTube link or a source file\"\n",
        "    \n",
        "    path = '/content/' + audio + '.vtt'\n",
        "    vtt_to_srt(path)\n",
        "    with open('/content/' + audio + '.srt','r') as file:\n",
        "      data=file.read()\n",
        "    return data,'/content/' + audio + '.srt'\n",
        "\n",
        "demo = gr.Interface(\n",
        "    fn=transcribe_youtube,\n",
        "    inputs=[\n",
        "        gr.Textbox(lines=1, placeholder=\"enter the source language (Japanese, English, etc)\"),\n",
        "        gr.Dropdown(label=\"Model Size\", choices=['base','small', 'medium', 'large'], value='small'),\n",
        "        gr.Textbox(lines=2, placeholder=\"paste youtube link here\", optional=True),\n",
        "        # A gradio inteface to upload an audio file\n",
        "        gr.Audio(source=\"upload\", type=\"filepath\", optional=True)\n",
        "    ],\n",
        "    outputs=[gr.Textbox(label=\"Transcripts\"),gr.File(label=\"Download Transcripts\")],\n",
        "    allow_flagging=\"never\"\n",
        ")\n",
        "demo.launch(debug=True)"
      ]
    },
    {
      "cell_type": "code",
      "execution_count": null,
      "metadata": {
        "id": "S6XR74jhFGcu",
        "vscode": {
          "languageId": "python"
        }
      },
      "outputs": [],
      "source": []
    }
  ],
  "metadata": {
    "accelerator": "GPU",
    "colab": {
      "collapsed_sections": [],
      "include_colab_link": true,
      "private_outputs": true,
      "provenance": []
    },
    "kernelspec": {
      "display_name": "Python 3",
      "name": "python3"
    }
  },
  "nbformat": 4,
  "nbformat_minor": 0
}
